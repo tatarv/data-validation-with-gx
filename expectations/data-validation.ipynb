{
 "cells": [
  {
   "cell_type": "code",
   "execution_count": 20,
   "id": "3e6c690b-357e-4008-b7bd-3eb11170a838",
   "metadata": {},
   "outputs": [],
   "source": [
    "#Importações\n",
    "import pandas as pd\n",
    "import great_expectations as gx"
   ]
  },
  {
   "cell_type": "code",
   "execution_count": 21,
   "id": "ef168979-5da8-4c5d-abca-e23f8defffb5",
   "metadata": {},
   "outputs": [],
   "source": [
    "#Criação do contexto\n",
    "\n",
    "context = gx.get_context()\n",
    "\n",
    "# Leitura do arquivo csv\n",
    "df = pd.read_csv(\"data/usuarios.csv\")"
   ]
  },
  {
   "cell_type": "code",
   "execution_count": 25,
   "id": "8e91c914-f36d-402f-9851-be1cb877a8fb",
   "metadata": {},
   "outputs": [
    {
     "name": "stdout",
     "output_type": "stream",
     "text": [
      "Summary:\n",
      "- Expectation: expect_column_to_exist na coluna 'Nome' - Passed\n",
      "- Expectation: expect_column_values_to_be_of_type na coluna 'Nome' - Passed\n",
      "- Expectation: expect_column_values_to_not_be_null na coluna 'Nome' - Passed\n",
      "- Expectation: expect_column_to_exist na coluna 'Matrícula' - Passed\n",
      "- Expectation: expect_column_values_to_be_of_type na coluna 'Matrícula' - Passed\n",
      "- Expectation: expect_column_values_to_not_be_null na coluna 'Matrícula' - Passed\n",
      "- Expectation: expect_column_values_to_be_unique na coluna 'Matrícula' - Passed\n",
      "- Expectation: expect_column_to_exist na coluna 'E-mail' - Passed\n",
      "- Expectation: expect_column_values_to_be_of_type na coluna 'E-mail' - Passed\n",
      "- Expectation: expect_column_values_to_not_be_null na coluna 'E-mail' - Passed\n",
      "- Expectation: expect_column_values_to_be_unique na coluna 'E-mail' - Passed\n",
      "- Expectation: expect_column_to_exist na coluna 'Telefone' - Passed\n",
      "- Expectation: expect_column_values_to_be_of_type na coluna 'Telefone' - Passed\n",
      "\n",
      "Final Summary:\n",
      "Test cases in the test suite: 13\n",
      "Expectations with 'Passed' status: 13\n",
      "Expectations with 'Failed' status: 0\n"
     ]
    }
   ],
   "source": [
    "df_gx = gx.from_pandas(df)\n",
    "\n",
    "# Validação para verificar que os campos existem\n",
    "df_gx.expect_column_to_exist(column=\"Nome\")\n",
    "df_gx.expect_column_to_exist(column=\"Matrícula\")\n",
    "df_gx.expect_column_to_exist(column=\"E-mail\")\n",
    "df_gx.expect_column_to_exist(column=\"Telefone\")\n",
    "\n",
    "# Validação para verificar se os campos estão nos tipos corretos\n",
    "df_gx.expect_column_values_to_be_of_type(column=\"Nome\", type_=\"str\")\n",
    "df_gx.expect_column_values_to_be_of_type(column=\"Matrícula\", type_=\"str\")\n",
    "df_gx.expect_column_values_to_be_of_type(column=\"E-mail\", type_=\"str\")\n",
    "df_gx.expect_column_values_to_be_of_type(column=\"Telefone\", type_=\"str\")\n",
    "\n",
    "# Validação para verificar se os campos obrigatórios não estão nulos\n",
    "df_gx.expect_column_values_to_not_be_null(column=\"Nome\")\n",
    "df_gx.expect_column_values_to_not_be_null(column=\"Matrícula\")\n",
    "df_gx.expect_column_values_to_not_be_null(column=\"E-mail\")\n",
    "\n",
    "# Validação para verificar se Matrícula e E-mail não são repetidos\n",
    "df_gx.expect_column_values_to_be_unique(column=\"Matrícula\")\n",
    "df_gx.expect_column_values_to_be_unique(column=\"E-mail\")\n",
    "\n",
    "\n",
    "# Validar os dados\n",
    "results = df_gx.validate()\n",
    "\n",
    "def gerar_resumo(results):\n",
    "    total_expectations = len(results[\"results\"])\n",
    "    successful_expectations = sum(result[\"success\"] for result in results[\"results\"])\n",
    "    unsuccessful_expectations = total_expectations - successful_expectations\n",
    "\n",
    "    print(\"Summary:\")\n",
    "    for result in results[\"results\"]:\n",
    "        expectation_type = result[\"expectation_config\"][\"expectation_type\"]\n",
    "        column = result[\"expectation_config\"][\"kwargs\"].get(\"column\", \"Tabela\")\n",
    "        success = result[\"success\"]\n",
    "        print(f\"- Expectation: {expectation_type} na coluna '{column}' - {'Passed' if success else 'Failed'}\")\n",
    "    \n",
    "    print(\"\\nFinal Summary:\")\n",
    "    print(f\"Test cases in the test suite: {total_expectations}\")\n",
    "    print(f\"Expectations with 'Passed' status: {successful_expectations}\")\n",
    "    print(f\"Expectations with 'Failed' status: {unsuccessful_expectations}\")\n",
    "\n",
    "# Gerar e exibir o relatório amigável\n",
    "gerar_resumo(results)"
   ]
  },
  {
   "cell_type": "code",
   "execution_count": null,
   "id": "f391c979-b8f7-491d-a34e-327dc2ca5317",
   "metadata": {},
   "outputs": [],
   "source": []
  }
 ],
 "metadata": {
  "kernelspec": {
   "display_name": "Python 3 (ipykernel)",
   "language": "python",
   "name": "python3"
  },
  "language_info": {
   "codemirror_mode": {
    "name": "ipython",
    "version": 3
   },
   "file_extension": ".py",
   "mimetype": "text/x-python",
   "name": "python",
   "nbconvert_exporter": "python",
   "pygments_lexer": "ipython3",
   "version": "3.10.12"
  }
 },
 "nbformat": 4,
 "nbformat_minor": 5
}
